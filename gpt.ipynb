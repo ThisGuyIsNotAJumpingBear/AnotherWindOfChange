{
 "cells": [
  {
   "cell_type": "code",
   "execution_count": 4,
   "metadata": {},
   "outputs": [],
   "source": [
    "from multiprocessing import Pool\n",
    "import os\n",
    "import time\n",
    "import pickle\n",
    "import json\n",
    "from tqdm import tqdm\n",
    "import csv\n",
    "import numpy as np\n",
    "from utils import load_instances, load_labels, load_annotator_labels\n",
    "from collections import defaultdict\n",
    "import numpy as np\n",
    "from scipy.stats import pearsonr\n",
    "from sklearn.metrics import f1_score, confusion_matrix\n",
    "import seaborn\n",
    "import matplotlib.pyplot as plt"
   ]
  },
  {
   "cell_type": "markdown",
   "metadata": {},
   "source": [
    "Since running the prompts through chatgpt are ran through multiprocessing, this `ipynb` will only run metrics on saved prompt files."
   ]
  },
  {
   "cell_type": "code",
   "execution_count": 5,
   "metadata": {},
   "outputs": [],
   "source": [
    "response_files = [('gpt4', 'data/gpt4_answers_qiq.pkl'),\n",
    "('gpt4_no_date', 'data/gpt4_answers_no_date.pkl'), ('gpt4_date', 'data/gpt4_answers_with_date.pkl')]"
   ]
  },
  {
   "cell_type": "code",
   "execution_count": 6,
   "metadata": {},
   "outputs": [
    {
     "name": "stdout",
     "output_type": "stream",
     "text": [
      "gpt4 accuracy: 0.5984323183599638\n",
      "gpt4_no_date accuracy: 0.7223394633705156\n",
      "gpt4_date accuracy: 0.689176967138981\n"
     ]
    }
   ],
   "source": [
    "for model_name, file in response_files:\n",
    "    with open(file, 'rb') as fp:\n",
    "            chatgpt_answers = pickle.load(fp)\n",
    "        \n",
    "    count = 0\n",
    "    total_count = 0\n",
    "    for para_lst in chatgpt_answers:\n",
    "        for response in para_lst:\n",
    "            if response[\"response\"] != \"1\" and response[\"response\"] != \"0\":\n",
    "                print(\"error\")\n",
    "            elif response[\"response\"] == response[\"label\"]:\n",
    "                count += 1\n",
    "            \n",
    "            total_count += 1\n",
    "    print(f\"{model_name} accuracy: {count / total_count}\") "
   ]
  },
  {
   "cell_type": "code",
   "execution_count": 7,
   "metadata": {},
   "outputs": [],
   "source": [
    "def get_id_to_target_word():\n",
    "    instances = load_instances()\n",
    "    \n",
    "    id_target_dict = {}\n",
    "    for instance in instances:\n",
    "        id_target_dict[instance[\"id\"]] = instance[\"word\"]\n",
    "    \n",
    "    return id_target_dict"
   ]
  },
  {
   "cell_type": "code",
   "execution_count": 8,
   "metadata": {},
   "outputs": [
    {
     "name": "stdout",
     "output_type": "stream",
     "text": [
      "gpt4 pearson corr: -0.4417201176643979, p-value: 0.00891315314239028\n",
      "gpt4_no_date pearson corr: -0.6606171837828476, p-value: 2.119047516288605e-05\n",
      "gpt4_date pearson corr: -0.5635818524639686, p-value: 0.0005190069252002929\n"
     ]
    }
   ],
   "source": [
    "\n",
    "ids_to_word = get_id_to_target_word()\n",
    "annotator_labels = load_annotator_labels()\n",
    "\n",
    "for model_name, file in response_files:\n",
    "    with open(file, 'rb') as fp:\n",
    "        chatgpt_answers = pickle.load(fp)\n",
    "\n",
    "    meaning_change = defaultdict(list)\n",
    "\n",
    "    for para_lst in chatgpt_answers:\n",
    "        for response in para_lst:\n",
    "            target_word = ids_to_word[response[\"id\"]]\n",
    "            if response[\"response\"] != \"1\" and response[\"response\"] != \"0\":\n",
    "                print(\"error\")\n",
    "            else:\n",
    "                meaning_change[target_word].append(int(response[\"response\"]))\n",
    "\n",
    "    mc_dict = {}\n",
    "    for key in list(meaning_change.keys()):\n",
    "        mc_dict[key] = np.mean(np.asarray(meaning_change[key]))\n",
    "\n",
    "    gpt_vec = []\n",
    "    annotator_vec = []\n",
    "\n",
    "    for key in annotator_labels.keys():\n",
    "        gpt_vec.append(float(mc_dict[key]))\n",
    "        annotator_vec.append(float(annotator_labels[key]))\n",
    "\n",
    "\n",
    "    pearson, p_value = pearsonr(gpt_vec, annotator_vec)\n",
    "    print(f\"{model_name} pearson corr: {pearson}, p-value: {p_value}\")"
   ]
  },
  {
   "cell_type": "code",
   "execution_count": 9,
   "metadata": {},
   "outputs": [
    {
     "name": "stdout",
     "output_type": "stream",
     "text": [
      "gpt4 f1: 0.05531914893617021\n",
      "gpt4_no_date f1: 0.6266720713417105\n",
      "gpt4_date f1: 0.6487223168654174\n"
     ]
    },
    {
     "data": {
      "image/png": "[encoded data removed]",
      "text/plain": [
       "<Figure size 640x480 with 3 Axes>"
      ]
     },
     "metadata": {},
     "output_type": "display_data"
    }
   ],
   "source": [
    "confusion_mats = np.zeros((3, 2, 2))\n",
    "for i, (model_name, file) in enumerate(response_files):\n",
    "\n",
    "    with open(file, 'rb') as fp:\n",
    "        chatgpt_answers = pickle.load(fp)\n",
    "\n",
    "    response_list = []\n",
    "    label_list = []\n",
    "\n",
    "    for para_lst in chatgpt_answers:\n",
    "        for response in para_lst:\n",
    "            label_list.append(response[\"label\"])\n",
    "            response_list.append(response[\"response\"])\n",
    "\n",
    "    f1 = f1_score(label_list, response_list, average=\"binary\", pos_label=\"1\")\n",
    "    print(f\"{model_name} f1: {f1}\")\n",
    "\n",
    "    cm = confusion_matrix(label_list, response_list)\n",
    "    cm[0, 1], cm[1, 1] = cm[1, 1], cm[0, 1]\n",
    "    confusion_mats[i] = cm\n",
    "\n",
    "\n",
    "fig, (ax1, ax2, ax3) = plt.subplots(1, 3)\n",
    "fig.tight_layout()\n",
    "\n",
    "ax1.set_title(\"GPT4-qiq\")\n",
    "ax2.set_title(\"GPT4-no-date\")\n",
    "ax3.set_title(\"GPT4-date\")\n",
    "\n",
    "\n",
    "seaborn.heatmap(confusion_mats[0], xticklabels='NP', yticklabels='TF', ax=ax1, annot=True, square=True, cmap='Reds', fmt='g', cbar=False)\n",
    "seaborn.heatmap(confusion_mats[1], xticklabels='NP', yticklabels='TF', ax=ax2, annot=True, square=True, cmap='Reds', fmt='g', cbar=False)\n",
    "seaborn.heatmap(confusion_mats[2], xticklabels='NP', yticklabels='TF', ax=ax3, annot=True, square=True, cmap='Reds', fmt='g', cbar=False)\n",
    "plt.savefig(\"confusion_mat\", bbox_inches='tight')\n",
    "    "
   ]
  }
 ],
 "metadata": {
  "kernelspec": {
   "display_name": "Python 3.11.5",
   "language": "python",
   "name": "python3"
  },
  "language_info": {
   "codemirror_mode": {
    "name": "ipython",
    "version": 3
   },
   "file_extension": ".py",
   "mimetype": "text/x-python",
   "name": "python",
   "nbconvert_exporter": "python",
   "pygments_lexer": "ipython3",
   "version": "3.11.5"
  },
  "orig_nbformat": 4,
  "vscode": {
   "interpreter": {
    "hash": "4bbd96449fffa39e361fc66bcb5d1530b80999218b6fe704e78cc8f408c31850"
   }
  }
 },
 "nbformat": 4,
 "nbformat_minor": 2
}
