{
 "cells": [
  {
   "cell_type": "code",
   "execution_count": 7,
   "metadata": {},
   "outputs": [],
   "source": [
    "import numpy as np\n",
    "import pandas as pd\n",
    "\n",
    "from collections import Counter\n",
    "from scipy.stats import pearsonr\n",
    "from scipy.linalg import orthogonal_procrustes\n",
    "from nltk import bigrams\n",
    "from nltk.probability import FreqDist\n",
    "from sklearn.metrics.pairwise import cosine_similarity\n",
    "from utils import get_sorted_tweets, get_target_words"
   ]
  },
  {
   "cell_type": "code",
   "execution_count": 8,
   "metadata": {},
   "outputs": [
    {
     "data": {
      "text/plain": [
       "[0.54,\n",
       " 0.76,\n",
       " 0.33,\n",
       " 0.46,\n",
       " 0.28,\n",
       " 0.43,\n",
       " 0.05,\n",
       " 0.85,\n",
       " 0.32,\n",
       " 0.5,\n",
       " 0.81,\n",
       " 0.95,\n",
       " 0.4,\n",
       " 0.17,\n",
       " 0.64,\n",
       " 0.77,\n",
       " 1.0,\n",
       " 0.71,\n",
       " 0.16,\n",
       " 0.09,\n",
       " 0.48,\n",
       " 0.95,\n",
       " 0.94,\n",
       " 0.76,\n",
       " 0.68,\n",
       " 0.83,\n",
       " 0.9,\n",
       " 0.03,\n",
       " 0.6,\n",
       " 0.92,\n",
       " 0.89,\n",
       " 0.22,\n",
       " 0.61,\n",
       " 0.83]"
      ]
     },
     "execution_count": 8,
     "metadata": {},
     "output_type": "execute_result"
    }
   ],
   "source": [
    "tweets = get_sorted_tweets()\n",
    "target_words = get_target_words()\n",
    "\n",
    "tsv_file_path = 'data/annotator.tsv'\n",
    "\n",
    "# Read the TSV file into a pandas DataFrame\n",
    "df = pd.read_csv(tsv_file_path, sep=' ', header=None).to_numpy()\n",
    "annotator = {item[0]: item[1] for item in df}\n",
    "ground_truth = [annotator[word] for word in target_words]\n",
    "ground_truth"
   ]
  },
  {
   "cell_type": "code",
   "execution_count": 9,
   "metadata": {},
   "outputs": [],
   "source": [
    "def get_ppmi_by_year(year, dim):\n",
    "    tweets = get_sorted_tweets()\n",
    "    target_words = get_target_words()\n",
    "    tweets = tweets[str(year)]\n",
    "    words = []\n",
    "    for tweet in tweets:\n",
    "        words.extend(tweet['tokens'])\n",
    "\n",
    "    cnt = Counter(words)\n",
    "    common = [word[0] for word in cnt.most_common(2000)]\n",
    "    w = list(set(common)) + target_words\n",
    "    bigram_pairs = list(bigrams(words))\n",
    "    bigram_freq = FreqDist(bigram_pairs)\n",
    "    cooccur_matrix = np.zeros((len(w), len(w)))\n",
    "    for i in range(len(w)):\n",
    "        for j in range(len(w)):\n",
    "            freq = bigram_freq[(w[i], w[j])]\n",
    "            cooccur_matrix[i, j] = freq\n",
    "    total_occurrences = np.sum(cooccur_matrix)\n",
    "    row_sums = np.sum(cooccur_matrix, axis=1)\n",
    "    col_sums = np.sum(cooccur_matrix, axis=0)\n",
    "\n",
    "    ppmi_matrix = np.zeros_like(cooccur_matrix)\n",
    "\n",
    "    for i in range(cooccur_matrix.shape[0]):\n",
    "        for j in range(cooccur_matrix.shape[1]):\n",
    "            p_x_y = cooccur_matrix[i, j] / total_occurrences\n",
    "            p_x = row_sums[i] / total_occurrences\n",
    "            p_y = col_sums[j] / total_occurrences\n",
    "            \n",
    "            pmi = np.log2(p_x_y / (p_x * p_y))\n",
    "            if pmi != pmi:\n",
    "                pmi = 0\n",
    "            ppmi_matrix[i, j] = max(pmi, 0)\n",
    "    target_word_seq = []\n",
    "    for word in target_words:\n",
    "        idx = w.index(word)\n",
    "        target_word_seq.append(ppmi_matrix[idx])\n",
    "    ppmi_matrix = np.vstack(target_word_seq)\n",
    "\n",
    "    U, S, Vt = np.linalg.svd(ppmi_matrix, full_matrices=False)\n",
    "\n",
    "    U_k = U[:, :dim]\n",
    "    S_k = np.diag(S[:dim])\n",
    "    Vt_k = Vt[:, :dim]\n",
    "\n",
    "    reduced_matrix = np.dot(U_k, np.dot(S_k, Vt_k))\n",
    "    return reduced_matrix\n",
    "    "
   ]
  },
  {
   "cell_type": "code",
   "execution_count": 11,
   "metadata": {},
   "outputs": [],
   "source": [
    "def find_correlation(A, B):\n",
    "    R = orthogonal_procrustes(A, B)\n",
    "    A = A @ R[0]\n",
    "    sim = cosine_similarity(A, B)\n",
    "    dist = 1 - np.diag(sim)\n",
    "    return pearsonr(dist, ground_truth)"
   ]
  },
  {
   "cell_type": "code",
   "execution_count": 15,
   "metadata": {},
   "outputs": [
    {
     "name": "stderr",
     "output_type": "stream",
     "text": [
      "C:\\Users\\ROG\\AppData\\Local\\Temp\\ipykernel_194384\\1624441018.py:31: RuntimeWarning: divide by zero encountered in log2\n",
      "  pmi = np.log2(p_x_y / (p_x * p_y))\n",
      "C:\\Users\\ROG\\AppData\\Local\\Temp\\ipykernel_194384\\1624441018.py:31: RuntimeWarning: invalid value encountered in scalar divide\n",
      "  pmi = np.log2(p_x_y / (p_x * p_y))\n"
     ]
    },
    {
     "name": "stdout",
     "output_type": "stream",
     "text": [
      "dim = 100\n",
      "PearsonRResult(statistic=0.05062434795308799, pvalue=0.7761581690362572)\n",
      "PearsonRResult(statistic=-0.028424897144051078, pvalue=0.8732145276354708)\n"
     ]
    },
    {
     "name": "stderr",
     "output_type": "stream",
     "text": [
      "C:\\Users\\ROG\\AppData\\Local\\Temp\\ipykernel_194384\\1624441018.py:31: RuntimeWarning: divide by zero encountered in log2\n",
      "  pmi = np.log2(p_x_y / (p_x * p_y))\n",
      "C:\\Users\\ROG\\AppData\\Local\\Temp\\ipykernel_194384\\1624441018.py:31: RuntimeWarning: invalid value encountered in scalar divide\n",
      "  pmi = np.log2(p_x_y / (p_x * p_y))\n"
     ]
    },
    {
     "name": "stdout",
     "output_type": "stream",
     "text": [
      "dim = 200\n",
      "PearsonRResult(statistic=-0.2038182381641085, pvalue=0.24760447898736498)\n",
      "PearsonRResult(statistic=0.013163535086063865, pvalue=0.9410994903071626)\n"
     ]
    },
    {
     "name": "stderr",
     "output_type": "stream",
     "text": [
      "C:\\Users\\ROG\\AppData\\Local\\Temp\\ipykernel_194384\\1624441018.py:31: RuntimeWarning: divide by zero encountered in log2\n",
      "  pmi = np.log2(p_x_y / (p_x * p_y))\n",
      "C:\\Users\\ROG\\AppData\\Local\\Temp\\ipykernel_194384\\1624441018.py:31: RuntimeWarning: invalid value encountered in scalar divide\n",
      "  pmi = np.log2(p_x_y / (p_x * p_y))\n"
     ]
    },
    {
     "name": "stdout",
     "output_type": "stream",
     "text": [
      "dim = 300\n",
      "PearsonRResult(statistic=0.02346701491255716, pvalue=0.8951940802111944)\n",
      "PearsonRResult(statistic=-0.09048383900510194, pvalue=0.6108095738066032)\n"
     ]
    },
    {
     "name": "stderr",
     "output_type": "stream",
     "text": [
      "C:\\Users\\ROG\\AppData\\Local\\Temp\\ipykernel_194384\\1624441018.py:31: RuntimeWarning: divide by zero encountered in log2\n",
      "  pmi = np.log2(p_x_y / (p_x * p_y))\n",
      "C:\\Users\\ROG\\AppData\\Local\\Temp\\ipykernel_194384\\1624441018.py:31: RuntimeWarning: invalid value encountered in scalar divide\n",
      "  pmi = np.log2(p_x_y / (p_x * p_y))\n"
     ]
    },
    {
     "name": "stdout",
     "output_type": "stream",
     "text": [
      "dim = 400\n",
      "PearsonRResult(statistic=0.015473701785429629, pvalue=0.9307854844547294)\n",
      "PearsonRResult(statistic=-0.09435829077827111, pvalue=0.595553464243175)\n"
     ]
    },
    {
     "name": "stderr",
     "output_type": "stream",
     "text": [
      "C:\\Users\\ROG\\AppData\\Local\\Temp\\ipykernel_194384\\1624441018.py:31: RuntimeWarning: divide by zero encountered in log2\n",
      "  pmi = np.log2(p_x_y / (p_x * p_y))\n",
      "C:\\Users\\ROG\\AppData\\Local\\Temp\\ipykernel_194384\\1624441018.py:31: RuntimeWarning: invalid value encountered in scalar divide\n",
      "  pmi = np.log2(p_x_y / (p_x * p_y))\n"
     ]
    },
    {
     "name": "stdout",
     "output_type": "stream",
     "text": [
      "dim = 500\n",
      "PearsonRResult(statistic=0.04611301143151122, pvalue=0.7956637562269073)\n",
      "PearsonRResult(statistic=-0.08139506084545639, pvalue=0.6472263130286253)\n"
     ]
    }
   ],
   "source": [
    "for dim in [100, 200, 300, 400, 500]:\n",
    "    ppmi_matrix_2019 = get_ppmi_by_year(2019, dim)\n",
    "    ppmi_matrix_2020 = get_ppmi_by_year(2020, dim)\n",
    "    ppmi_matrix_2021 = get_ppmi_by_year(2021, dim)\n",
    "    print(f'dim = {dim}')\n",
    "    print(find_correlation(ppmi_matrix_2019, ppmi_matrix_2020))\n",
    "    print(find_correlation(ppmi_matrix_2020, ppmi_matrix_2021))"
   ]
  }
 ],
 "metadata": {
  "kernelspec": {
   "display_name": "Python 3",
   "language": "python",
   "name": "python3"
  },
  "language_info": {
   "codemirror_mode": {
    "name": "ipython",
    "version": 3
   },
   "file_extension": ".py",
   "mimetype": "text/x-python",
   "name": "python",
   "nbconvert_exporter": "python",
   "pygments_lexer": "ipython3",
   "version": "3.11.4"
  }
 },
 "nbformat": 4,
 "nbformat_minor": 2
}
